{
 "cells": [
  {
   "cell_type": "code",
   "execution_count": 54,
   "metadata": {},
   "outputs": [],
   "source": [
    "import numpy as np\n",
    "from scipy.io import loadmat\n",
    "results=loadmat('yalefaces.mat')\n",
    "X=results['X']"
   ]
  },
  {
   "cell_type": "code",
   "execution_count": 55,
   "metadata": {},
   "outputs": [],
   "source": [
    "from sklearn.model_selection import train_test_split\n",
    "from sklearn.linear_model import LogisticRegression\n",
    "from sklearn.metrics import accuracy_score\n",
    "from sklearn.metrics import confusion_matrix, classification_report\n",
    "from sklearn.discriminant_analysis import LinearDiscriminantAnalysis as LDA\n",
    "from sklearn import svm\n",
    "from sklearn.tree import DecisionTreeClassifier\n",
    "from sklearn.svm import SVC\n",
    "from sklearn.decomposition import PCA"
   ]
  },
  {
   "attachments": {},
   "cell_type": "markdown",
   "metadata": {},
   "source": [
    "## (a)"
   ]
  },
  {
   "cell_type": "code",
   "execution_count": 60,
   "metadata": {},
   "outputs": [
    {
     "name": "stdout",
     "output_type": "stream",
     "text": [
      "The shape for first_10_faces is (1024, 640).\n"
     ]
    }
   ],
   "source": [
    "# Label the faces from 0 to 9\n",
    "labels = np.arange(10).repeat(64)\n",
    "\n",
    "# Grab the first 10 individual faces\n",
    "first_10_faces = X[:, :640]\n",
    "print(f\"The shape for first_10_faces is {first_10_faces.shape}.\")"
   ]
  },
  {
   "attachments": {},
   "cell_type": "markdown",
   "metadata": {},
   "source": [
    "## (b)"
   ]
  },
  {
   "cell_type": "code",
   "execution_count": 57,
   "metadata": {},
   "outputs": [
    {
     "name": "stdout",
     "output_type": "stream",
     "text": [
      "The shape for X_train is (1024, 500).\n",
      "[[0.00392157 0.57573529 0.00784314 ... 0.18995098 0.52156863 0.        ]\n",
      " [0.00784314 0.53946078 0.00784314 ... 0.17107843 0.47205882 0.00661765]\n",
      " [0.00784314 0.48210784 0.00539216 ... 0.17696078 0.46593137 0.00784314]\n",
      " ...\n",
      " [0.51813725 0.03137255 0.61691176 ... 0.41372549 0.08823529 0.00539216]\n",
      " [0.51813725 0.03137255 0.63039216 ... 0.40147059 0.08112745 0.02205882]\n",
      " [0.50269608 0.03137255 0.65882353 ... 0.39215686 0.06911765 0.02745098]]\n",
      "The shape for y_train is (500,).\n",
      "[0 0 0 0 0 0 0 0 0 0 0 0 0 0 0 0 0 0 0 0 0 0 0 0 0 0 0 0 0 0 0 0 0 0 0 0 0\n",
      " 0 0 0 0 0 0 0 0 0 0 0 0 0 1 1 1 1 1 1 1 1 1 1 1 1 1 1 1 1 1 1 1 1 1 1 1 1\n",
      " 1 1 1 1 1 1 1 1 1 1 1 1 1 1 1 1 1 1 1 1 1 1 1 1 1 1 2 2 2 2 2 2 2 2 2 2 2\n",
      " 2 2 2 2 2 2 2 2 2 2 2 2 2 2 2 2 2 2 2 2 2 2 2 2 2 2 2 2 2 2 2 2 2 2 2 2 2\n",
      " 2 2 3 3 3 3 3 3 3 3 3 3 3 3 3 3 3 3 3 3 3 3 3 3 3 3 3 3 3 3 3 3 3 3 3 3 3\n",
      " 3 3 3 3 3 3 3 3 3 3 3 3 3 3 3 4 4 4 4 4 4 4 4 4 4 4 4 4 4 4 4 4 4 4 4 4 4\n",
      " 4 4 4 4 4 4 4 4 4 4 4 4 4 4 4 4 4 4 4 4 4 4 4 4 4 4 4 4 5 5 5 5 5 5 5 5 5\n",
      " 5 5 5 5 5 5 5 5 5 5 5 5 5 5 5 5 5 5 5 5 5 5 5 5 5 5 5 5 5 5 5 5 5 5 5 5 5\n",
      " 5 5 5 5 6 6 6 6 6 6 6 6 6 6 6 6 6 6 6 6 6 6 6 6 6 6 6 6 6 6 6 6 6 6 6 6 6\n",
      " 6 6 6 6 6 6 6 6 6 6 6 6 6 6 6 6 6 7 7 7 7 7 7 7 7 7 7 7 7 7 7 7 7 7 7 7 7\n",
      " 7 7 7 7 7 7 7 7 7 7 7 7 7 7 7 7 7 7 7 7 7 7 7 7 7 7 7 7 7 7 8 8 8 8 8 8 8\n",
      " 8 8 8 8 8 8 8 8 8 8 8 8 8 8 8 8 8 8 8 8 8 8 8 8 8 8 8 8 8 8 8 8 8 8 8 8 8\n",
      " 8 8 8 8 8 8 9 9 9 9 9 9 9 9 9 9 9 9 9 9 9 9 9 9 9 9 9 9 9 9 9 9 9 9 9 9 9\n",
      " 9 9 9 9 9 9 9 9 9 9 9 9 9 9 9 9 9 9 9]\n",
      "The shape for y_train is (1024, 140).\n",
      "[[0.59583333 0.7375     0.53406863 ... 0.36936275 0.00392157 0.01176471]\n",
      " [0.53480392 0.76642157 0.59215686 ... 0.3622549  0.00784314 0.01176471]\n",
      " [0.39313725 0.80955882 0.50196078 ... 0.3372549  0.00784314 0.01176471]\n",
      " ...\n",
      " [0.02745098 0.03921569 0.04313725 ... 0.25490196 0.57254902 0.67769608]\n",
      " [0.02745098 0.0379902  0.04313725 ... 0.25098039 0.5504902  0.65833333]\n",
      " [0.02745098 0.03529412 0.04313725 ... 0.23921569 0.54705882 0.63161765]]\n",
      "The shape for y_train is (140,).\n",
      "[0 0 0 0 0 0 0 0 0 0 0 0 0 0 1 1 1 1 1 1 1 1 1 1 1 1 1 1 2 2 2 2 2 2 2 2 2\n",
      " 2 2 2 2 2 3 3 3 3 3 3 3 3 3 3 3 3 3 3 4 4 4 4 4 4 4 4 4 4 4 4 4 4 5 5 5 5\n",
      " 5 5 5 5 5 5 5 5 5 5 6 6 6 6 6 6 6 6 6 6 6 6 6 6 7 7 7 7 7 7 7 7 7 7 7 7 7\n",
      " 7 8 8 8 8 8 8 8 8 8 8 8 8 8 8 9 9 9 9 9 9 9 9 9 9 9 9 9 9]\n"
     ]
    }
   ],
   "source": [
    "# Split the data into training and test sets\n",
    "train_indices = []\n",
    "test_indices = []\n",
    "for i in range(10):\n",
    "    # Randomly select 14 indices for the test set\n",
    "    test_idx = np.random.choice(range(64), size=14, replace=False)\n",
    "    # Use the remaining indices for the training set\n",
    "    train_idx = np.setdiff1d(range(64), test_idx)\n",
    "    # Add the indices to the overall test and train sets\n",
    "    train_indices.extend(i*64 + train_idx)\n",
    "    test_indices.extend(i*64 + test_idx)\n",
    "\n",
    "# Split the data into training and test sets\n",
    "X_train = X[:, train_indices]\n",
    "y_train = labels[train_indices]\n",
    "X_test = X[:, test_indices]\n",
    "y_test = labels[test_indices]\n",
    "print(f\"The shape for X_train is {X_train.shape}.\")\n",
    "print(X_train)\n",
    "print(f\"The shape for y_train is {y_train.shape}.\")\n",
    "print(y_train)\n",
    "print(f\"The shape for y_train is {X_test.shape}.\")\n",
    "print(X_test)\n",
    "print(f\"The shape for y_train is {y_test.shape}.\")\n",
    "print(y_test)"
   ]
  },
  {
   "attachments": {},
   "cell_type": "markdown",
   "metadata": {},
   "source": [
    "## (c)"
   ]
  },
  {
   "cell_type": "code",
   "execution_count": 58,
   "metadata": {},
   "outputs": [
    {
     "name": "stdout",
     "output_type": "stream",
     "text": [
      "LDA Classification accuracy: 83.57%\n"
     ]
    }
   ],
   "source": [
    "# Perform PCA on the training set\n",
    "pca = PCA(n_components=20)\n",
    "X_train_pca = pca.fit_transform(X_train.T).T\n",
    "X_test_pca = pca.transform(X_test.T).T\n",
    "\n",
    "# Train an LDA model on the transformed data\n",
    "lda = LDA()\n",
    "lda.fit(X_train_pca.T, y_train)\n",
    "\n",
    "# Evaluate the accuracy on the test set\n",
    "accuracy = lda.score(X_test_pca.T, y_test)\n",
    "print(\"LDA Classification accuracy: {:.2f}%\".format(accuracy*100))"
   ]
  },
  {
   "attachments": {},
   "cell_type": "markdown",
   "metadata": {},
   "source": [
    "## (d)"
   ]
  },
  {
   "cell_type": "code",
   "execution_count": 59,
   "metadata": {},
   "outputs": [
    {
     "name": "stdout",
     "output_type": "stream",
     "text": [
      "SVM classification accuracy: 95.71%\n",
      "Decision tree classification accuracy: 72.14%\n"
     ]
    }
   ],
   "source": [
    "# Train an SVM model on the transformed data\n",
    "svm_model = SVC(kernel='linear')\n",
    "svm_model.fit(X_train_pca.T, y_train)\n",
    "\n",
    "# Train a decision tree model on the transformed data\n",
    "dt_model = DecisionTreeClassifier()\n",
    "dt_model.fit(X_train_pca.T, y_train)\n",
    "\n",
    "# Evaluate the accuracy of the SVM model on the test set\n",
    "accuracy_svm = svm_model.score(X_test_pca.T, y_test)\n",
    "print(\"SVM classification accuracy: {:.2f}%\".format(accuracy_svm*100))\n",
    "\n",
    "# Evaluate the accuracy of the decision tree model on the test set\n",
    "accuracy_dt = dt_model.score(X_test_pca.T, y_test)\n",
    "print(\"Decision tree classification accuracy: {:.2f}%\".format(accuracy_dt*100))\n",
    "\n",
    "# Predict the labels for the test set using the SVM model\n",
    "y_pred_svm = svm_model.predict(X_test_pca.T)\n",
    "# Compute the confusion matrix\n",
    "cm_svm = confusion_matrix(y_test, y_pred_svm)\n",
    "# print(\"SVM confusion matrix:\")\n",
    "# print(cm_svm)\n",
    "\n",
    "# Predict the labels for the test set using the decision tree model\n",
    "y_pred_dt = dt_model.predict(X_test_pca.T)\n",
    "# Compute the confusion matrix\n",
    "cm_dt = confusion_matrix(y_test, y_pred_dt)\n",
    "# print(\"Decision tree confusion matrix:\")\n",
    "# print(cm_dt)"
   ]
  },
  {
   "attachments": {},
   "cell_type": "markdown",
   "metadata": {},
   "source": [
    "SVM does the best job for classification among faces for accuracy above 90% with linear kernal; LDA rankes in second position around 80% accuracy; Decision tree ranks in last position with about 70% accuracy"
   ]
  }
 ],
 "metadata": {
  "kernelspec": {
   "display_name": "base",
   "language": "python",
   "name": "python3"
  },
  "language_info": {
   "codemirror_mode": {
    "name": "ipython",
    "version": 3
   },
   "file_extension": ".py",
   "mimetype": "text/x-python",
   "name": "python",
   "nbconvert_exporter": "python",
   "pygments_lexer": "ipython3",
   "version": "3.9.12"
  },
  "orig_nbformat": 4
 },
 "nbformat": 4,
 "nbformat_minor": 2
}
