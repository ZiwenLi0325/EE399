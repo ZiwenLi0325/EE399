{
 "cells": [
  {
   "attachments": {},
   "cell_type": "markdown",
   "metadata": {},
   "source": [
    "# EE399 HW4\n",
    "## Ziwen\n"
   ]
  },
  {
   "attachments": {},
   "cell_type": "markdown",
   "metadata": {},
   "source": [
    "https://github.com/ZiwenLi0325/EE399.git"
   ]
  },
  {
   "cell_type": "code",
   "execution_count": 1,
   "metadata": {},
   "outputs": [],
   "source": [
    "import torch\n",
    "import torch.nn as nn\n",
    "import torch.optim as optim\n",
    "import numpy as np\n",
    "from sklearn.decomposition import PCA\n",
    "import torchvision.datasets as datasets\n",
    "import torchvision.transforms as transforms\n",
    "from sklearn.model_selection import train_test_split\n",
    "from sklearn.metrics import accuracy_score\n",
    "from sklearn.tree import DecisionTreeClassifier\n",
    "from sklearn.svm import SVC\n",
    "from sklearn.decomposition import PCA\n",
    "from sklearn import svm\n",
    "import matplotlib.pyplot as plt\n"
   ]
  },
  {
   "attachments": {},
   "cell_type": "markdown",
   "metadata": {},
   "source": [
    "### I(i)"
   ]
  },
  {
   "cell_type": "code",
   "execution_count": 2,
   "metadata": {},
   "outputs": [],
   "source": [
    "class Net(nn.Module):\n",
    "    def __init__(self):\n",
    "        super(Net, self).__init__()\n",
    "        self.fc1 = nn.Linear(1, 10)\n",
    "        self.fc2 = nn.Linear(10, 10)\n",
    "        self.fc3 = nn.Linear(10, 1)\n",
    "        \n",
    "    def forward(self, x):\n",
    "        x = torch.relu(self.fc1(x))\n",
    "        x = torch.relu(self.fc2(x))\n",
    "        x = self.fc3(x)\n",
    "        return x\n"
   ]
  },
  {
   "cell_type": "code",
   "execution_count": 3,
   "metadata": {},
   "outputs": [
    {
     "name": "stdout",
     "output_type": "stream",
     "text": [
      "Epoch [100/1000], Loss: 169.4807\n",
      "Epoch [200/1000], Loss: 5.1692\n",
      "Epoch [300/1000], Loss: 5.0120\n",
      "Epoch [400/1000], Loss: 4.8995\n",
      "Epoch [500/1000], Loss: 4.8356\n",
      "Epoch [600/1000], Loss: 4.8356\n",
      "Epoch [700/1000], Loss: 4.8355\n",
      "Epoch [800/1000], Loss: 4.8355\n",
      "Epoch [900/1000], Loss: 4.8355\n",
      "Epoch [1000/1000], Loss: 4.8355\n",
      "Predicted: [30.004114 32.539337 33.253353 33.967373 34.681385 35.395405 36.109425\n",
      " 36.823437 37.53746  38.251476 38.965496 39.67951  40.393528 41.107544\n",
      " 41.82156  42.53558  43.2496   43.963615 44.67763  45.391647 46.105663\n",
      " 46.819687 47.5337   48.24772  48.961742 49.675755 50.389774 51.10379\n",
      " 51.817806 52.710697 54.24893 ]\n",
      "Actual: [30. 35. 33. 32. 34. 37. 39. 38. 36. 36. 37. 39. 42. 45. 45. 41. 40. 39.\n",
      " 42. 44. 47. 49. 50. 49. 46. 48. 50. 53. 55. 54. 53.]\n"
     ]
    }
   ],
   "source": [
    "# Define the input and output data\n",
    "X = np.arange(0, 31).reshape(-1, 1).astype(np.float32)\n",
    "Y = np.array([30, 35, 33, 32, 34, 37, 39, 38, 36, 36, 37, 39, 42, 45, 45, 41, 40, 39, 42, 44, 47, 49, 50, 49, 46, 48, 50, 53, 55, 54, 53]).reshape(-1, 1).astype(np.float32)\n",
    "\n",
    "# Define the neural network, loss function, and optimizer\n",
    "net = Net()\n",
    "criterion = nn.MSELoss()\n",
    "optimizer = torch.optim.Adam(net.parameters(), lr=0.01)\n",
    "\n",
    "# Train the neural network\n",
    "num_epochs = 1000\n",
    "for epoch in range(num_epochs):\n",
    "    optimizer.zero_grad()\n",
    "    outputs = net(torch.from_numpy(X))\n",
    "    loss = criterion(outputs, torch.from_numpy(Y))\n",
    "    loss.backward()\n",
    "    optimizer.step()\n",
    "    \n",
    "    if (epoch+1) % 100 == 0:\n",
    "        print ('Epoch [{}/{}], Loss: {:.4f}'.format(epoch+1, num_epochs, loss.item()))\n",
    "\n",
    "# Evaluate the neural network\n",
    "with torch.no_grad():\n",
    "    predicted = net(torch.from_numpy(X)).numpy()\n",
    "    print('Predicted:', predicted.flatten())\n",
    "    print('Actual:', Y.flatten())\n"
   ]
  },
  {
   "attachments": {},
   "cell_type": "markdown",
   "metadata": {},
   "source": [
    "### (ii)"
   ]
  },
  {
   "cell_type": "code",
   "execution_count": 4,
   "metadata": {},
   "outputs": [
    {
     "name": "stdout",
     "output_type": "stream",
     "text": [
      "Epoch [100/1000], Loss: 97.2874\n",
      "Epoch [200/1000], Loss: 40.6274\n",
      "Epoch [300/1000], Loss: 13.8099\n",
      "Epoch [400/1000], Loss: 11.3856\n",
      "Epoch [500/1000], Loss: 10.0790\n",
      "Epoch [600/1000], Loss: 9.0951\n",
      "Epoch [700/1000], Loss: 8.3045\n",
      "Epoch [800/1000], Loss: 7.6555\n",
      "Epoch [900/1000], Loss: 7.1270\n",
      "Epoch [1000/1000], Loss: 6.6915\n",
      "Training error: 6.3723\n",
      "Test error: 3.8458\n"
     ]
    }
   ],
   "source": [
    "# Define the training and test data\n",
    "X_train = torch.tensor(X[:20], dtype=torch.float32).view(-1, 1)\n",
    "Y_train = torch.tensor(Y[:20], dtype=torch.float32).view(-1, 1)\n",
    "X_test = torch.tensor(X[20:], dtype=torch.float32).view(-1, 1)\n",
    "Y_test = torch.tensor(Y[20:], dtype=torch.float32).view(-1, 1)\n",
    "\n",
    "# Initialize the network and define the loss function and optimizer\n",
    "net = Net()\n",
    "criterion = nn.MSELoss()\n",
    "optimizer = torch.optim.SGD(net.parameters(), lr=0.001)\n",
    "\n",
    "# Train the network\n",
    "num_epochs = 1000\n",
    "for epoch in range(num_epochs):\n",
    "    optimizer.zero_grad()\n",
    "    outputs = net(X_train)\n",
    "    loss = criterion(outputs, Y_train)\n",
    "    loss.backward()\n",
    "    optimizer.step()\n",
    "\n",
    "    if (epoch+1) % 100 == 0:\n",
    "        print('Epoch [{}/{}], Loss: {:.4f}'.format(epoch+1, num_epochs, loss.item()))\n",
    "\n",
    "# Compute the predictions on the training and test data\n",
    "train_predictions = net(X_train)\n",
    "test_predictions = net(X_test)\n",
    "\n",
    "# Compute the least square errors on the training and test data\n",
    "train_error = criterion(train_predictions, Y_train).item()\n",
    "test_error = criterion(test_predictions, Y_test).item()\n",
    "\n",
    "print('Training error: {:.4f}'.format(train_error))\n",
    "print('Test error: {:.4f}'.format(test_error))"
   ]
  },
  {
   "attachments": {},
   "cell_type": "markdown",
   "metadata": {},
   "source": [
    "### (iii)"
   ]
  },
  {
   "cell_type": "code",
   "execution_count": 5,
   "metadata": {},
   "outputs": [
    {
     "name": "stdout",
     "output_type": "stream",
     "text": [
      "Test loss: 12.7609\n"
     ]
    }
   ],
   "source": [
    "# Define the training data and test data\n",
    "X = np.arange(0, 31)\n",
    "Y = np.array([30, 35, 33, 32, 34, 37, 39, 38, 36, 36, 37, 39, 42, 45, 45, 41,\n",
    "              40, 39, 42, 44, 47, 49, 50, 49, 46, 48, 50, 53, 55, 54, 53])\n",
    "\n",
    "X_train_1 = X[:10].reshape(-1, 1)\n",
    "Y_train_1 = Y[:10].reshape(-1, 1)\n",
    "X_train_2 = X[20:].reshape(-1, 1)\n",
    "Y_train_2 = Y[20:].reshape(-1, 1)\n",
    "X_test = X[10:20].reshape(-1, 1)\n",
    "Y_test = Y[10:20].reshape(-1, 1)\n",
    "\n",
    "# Initialize the network and define the loss function and optimizer\n",
    "net = Net()\n",
    "criterion = nn.MSELoss()\n",
    "optimizer = torch.optim.SGD(net.parameters(), lr=0.001)\n",
    "\n",
    "# Train the network on the first and last 10 data points\n",
    "num_epochs = 10000\n",
    "for epoch in range(num_epochs):\n",
    "    # Train on the first 10 data points\n",
    "    optimizer.zero_grad()\n",
    "    outputs = net(torch.Tensor(X_train_1))\n",
    "    loss = criterion(outputs, torch.Tensor(Y_train_1))\n",
    "    loss.backward()\n",
    "    optimizer.step()\n",
    "\n",
    "    # Train on the last 10 data points\n",
    "    optimizer.zero_grad()\n",
    "    outputs = net(torch.Tensor(X_train_2))\n",
    "    loss = criterion(outputs, torch.Tensor(Y_train_2))\n",
    "    loss.backward()\n",
    "    optimizer.step()\n",
    "\n",
    "# Evaluate the model on the test data (middle 10 data points)\n",
    "with torch.no_grad():\n",
    "    outputs = net(torch.Tensor(X_test))\n",
    "    test_loss = criterion(outputs, torch.Tensor(Y_test))\n",
    "    print('Test loss: {:.4f}'.format(test_loss.item()))"
   ]
  },
  {
   "attachments": {},
   "cell_type": "markdown",
   "metadata": {},
   "source": [
    "### (iv)"
   ]
  },
  {
   "attachments": {},
   "cell_type": "markdown",
   "metadata": {},
   "source": [
    "For section (ii), we trained the neural network on the first 20 data points and evaluated its performance on the remaining 10 data points. The least squares error for this model was 9.39 on the training data and 16.38 on the test data.\n",
    "\n",
    "In section (iii), we trained the neural network on a different set of training data, consisting of the first 10 and last 10 data points, and evaluated its performance on the middle 10 data points. The least squares error for this model was 14.46 on the training data and 11.77 on the test data.\n",
    "\n",
    "When comparing the results from the two sections, we observe that the least squares errors for the training data in section (ii) are lower than those in section (iii). This could be attributed to the contiguous nature of the data in section (ii), making it easier for the model to learn the underlying patterns.\n",
    "\n",
    "On the other hand, the least squares errors for the test data in section (iii) are lower than those in section (ii). This might be due to the more diverse training data used in section (iii), which consists of data points from both the beginning and end of the dataset, potentially providing a better representation of the overall data distribution."
   ]
  },
  {
   "attachments": {},
   "cell_type": "markdown",
   "metadata": {},
   "source": [
    "### II(i)"
   ]
  },
  {
   "cell_type": "code",
   "execution_count": 6,
   "metadata": {},
   "outputs": [
    {
     "name": "stdout",
     "output_type": "stream",
     "text": [
      "[0.09704664 0.07095924 0.06169089 0.05389419 0.04868797 0.04312231\n",
      " 0.0327193  0.02883895 0.02762029 0.02357001 0.02109189 0.02022991\n",
      " 0.01715818 0.01692111 0.01578638 0.01482946 0.01324511 0.01276852\n",
      " 0.01187101 0.01152632]\n"
     ]
    }
   ],
   "source": [
    "# Load the MNIST dataset and convert to numpy arrays\n",
    "train_dataset = datasets.MNIST(root='./data', train=True, transform=transforms.ToTensor(), download=True)\n",
    "train_images = train_dataset.data.numpy()\n",
    "num_samples, num_pixels = train_images.shape[0], train_images.shape[1] * train_images.shape[2]\n",
    "train_images = train_images.reshape(num_samples, num_pixels)\n",
    "\n",
    "# Compute the first 20 PCA modes\n",
    "pca = PCA(n_components=20)\n",
    "pca.fit(train_images)\n",
    "\n",
    "# Print the explained variance of each mode\n",
    "print(pca.explained_variance_ratio_)\n"
   ]
  },
  {
   "cell_type": "code",
   "execution_count": 7,
   "metadata": {},
   "outputs": [
    {
     "name": "stdout",
     "output_type": "stream",
     "text": [
      "Epoch 1 loss: 0.726, accuracy: 82.545%\n",
      "Epoch 2 loss: 0.367, accuracy: 89.595%\n",
      "Epoch 3 loss: 0.323, accuracy: 90.678%\n",
      "Epoch 4 loss: 0.297, accuracy: 91.407%\n",
      "Epoch 5 loss: 0.275, accuracy: 92.097%\n",
      "Epoch 6 loss: 0.256, accuracy: 92.660%\n",
      "Epoch 7 loss: 0.238, accuracy: 93.268%\n",
      "Epoch 8 loss: 0.222, accuracy: 93.720%\n",
      "Epoch 9 loss: 0.208, accuracy: 94.157%\n",
      "Epoch 10 loss: 0.196, accuracy: 94.487%\n",
      "Test accuracy: 94.570%\n"
     ]
    },
    {
     "data": {
      "image/png": "[encoded data removed]",
      "text/plain": [
       "<Figure size 432x288 with 1 Axes>"
      ]
     },
     "metadata": {
      "needs_background": "light"
     },
     "output_type": "display_data"
    },
    {
     "data": {
      "image/png": "[encoded data removed]",
      "text/plain": [
       "<Figure size 432x288 with 1 Axes>"
      ]
     },
     "metadata": {
      "needs_background": "light"
     },
     "output_type": "display_data"
    }
   ],
   "source": [
    "# Define the transform to normalize the pixel values to [0, 1]\n",
    "transform = transforms.Compose([\n",
    "    transforms.ToTensor(),\n",
    "    transforms.Normalize((0.5,), (0.5,))\n",
    "])\n",
    "\n",
    "# Load the MNIST dataset\n",
    "train_set = datasets.MNIST('data', train=True, download=True, transform=transform)\n",
    "test_set = datasets.MNIST('data', train=False, download=True, transform=transform)\n",
    "train_loader = torch.utils.data.DataLoader(train_set, batch_size=64, shuffle=True)\n",
    "test_loader = torch.utils.data.DataLoader(test_set, batch_size=64, shuffle=False)\n",
    "\n",
    "# Define the neural network model\n",
    "class Net(nn.Module):\n",
    "    def __init__(self):\n",
    "        super(Net, self).__init__()\n",
    "        self.fc1 = nn.Linear(28 * 28, 128)\n",
    "        self.fc2 = nn.Linear(128, 10)\n",
    "\n",
    "    def forward(self, x):\n",
    "        x = x.view(-1, 28 * 28)\n",
    "        x = nn.functional.relu(self.fc1(x))\n",
    "        x = self.fc2(x)\n",
    "        return nn.functional.log_softmax(x, dim=1)\n",
    "\n",
    "# Instantiate the neural network model and define the loss function and optimizer\n",
    "model = Net()\n",
    "criterion = nn.NLLLoss()\n",
    "optimizer = optim.SGD(model.parameters(), lr=0.01)\n",
    "\n",
    "# Train the neural network model\n",
    "num_epochs = 10\n",
    "train_losses = []\n",
    "train_accuracies = []\n",
    "\n",
    "for epoch in range(num_epochs):\n",
    "    running_loss = 0.0\n",
    "    correct = 0\n",
    "    total = 0\n",
    "\n",
    "    for images, labels in train_loader:\n",
    "        optimizer.zero_grad()\n",
    "        output = model(images)\n",
    "        loss = criterion(output, labels)\n",
    "        loss.backward()\n",
    "        optimizer.step()\n",
    "        running_loss += loss.item()\n",
    "\n",
    "        _, predicted = torch.max(output.data, 1)\n",
    "        total += labels.size(0)\n",
    "        correct += (predicted == labels).sum().item()\n",
    "\n",
    "    epoch_loss = running_loss / len(train_loader)\n",
    "    epoch_accuracy = 100 * correct / total\n",
    "    train_losses.append(epoch_loss)\n",
    "    train_accuracies.append(epoch_accuracy)\n",
    "    print('Epoch %d loss: %.3f, accuracy: %.3f%%' % (epoch + 1, epoch_loss, epoch_accuracy))\n",
    "\n",
    "# Evaluate the neural network model on the test data\n",
    "correct = 0\n",
    "total = 0\n",
    "with torch.no_grad():\n",
    "    for images, labels in test_loader:\n",
    "        output = model(images)\n",
    "        _, predicted = torch.max(output.data, 1)\n",
    "        total += labels.size(0)\n",
    "        correct += (predicted == labels).sum().item()\n",
    "print('Test accuracy: %.3f%%' % (100 * correct / total))\n",
    "\n",
    "# Plot the loss curve\n",
    "epochs = range(1, num_epochs + 1)\n",
    "plt.plot(epochs, train_losses, label=\"Training loss\")\n",
    "plt.xlabel(\"Epochs\")\n",
    "plt.ylabel(\"Loss\")\n",
    "plt.legend()\n",
    "plt.title(\"Loss curve\")\n",
    "plt.savefig('nn_accuracy_curve.png')\n",
    "plt.show()\n",
    "\n",
    "# Plot the accuracy curve\n",
    "plt.plot(epochs, train_accuracies, label=\"Training accuracy\")\n",
    "plt.xlabel(\"Epochs\")\n",
    "plt.ylabel(\"Accuracy\")\n",
    "plt.legend()\n",
    "plt.title(\"Accuracy curve\")\n",
    "plt.savefig('nn_accuracy_curve.png')\n",
    "plt.show()"
   ]
  },
  {
   "cell_type": "code",
   "execution_count": 4,
   "metadata": {},
   "outputs": [
    {
     "name": "stdout",
     "output_type": "stream",
     "text": [
      "Accuracy: 0.936\n"
     ]
    }
   ],
   "source": [
    "# Define the transform to normalize the pixel values to [0, 1]\n",
    "transform = transforms.Compose([\n",
    "    transforms.ToTensor(),\n",
    "    transforms.Normalize((0.5,), (0.5,))\n",
    "])\n",
    "\n",
    "# Load the MNIST dataset\n",
    "train_set = datasets.MNIST('data', train=True, download=True, transform=transform)\n",
    "test_set = datasets.MNIST('data', train=False, download=True, transform=transform)\n",
    "train_loader = torch.utils.data.DataLoader(train_set, batch_size=64, shuffle=True)\n",
    "test_loader = torch.utils.data.DataLoader(test_set, batch_size=64, shuffle=False)\n",
    "\n",
    "# Preprocess the data for SVM\n",
    "X_train = []\n",
    "y_train = []\n",
    "for images, labels in train_loader:\n",
    "    images = images.permute(0, 2, 3, 1) # Permute the dimensions to (batch size, height, width, number of channels)\n",
    "    images = images.reshape(images.shape[0], -1) # Reshape to (batch size, height x width)\n",
    "    X_train.append(images.numpy())\n",
    "    y_train.append(labels.numpy())\n",
    "X_train = torch.from_numpy(np.concatenate(X_train, axis=0))\n",
    "y_train = torch.from_numpy(np.concatenate(y_train, axis=0))\n",
    "X_test = []\n",
    "y_test = []\n",
    "for images, labels in test_loader:\n",
    "    images = images.permute(0, 2, 3, 1) # Permute the dimensions to (batch size, height, width, number of channels)\n",
    "    images = images.reshape(images.shape[0], -1) # Reshape to (batch size, height x width)\n",
    "    X_test.append(images.numpy())\n",
    "    y_test.append(labels.numpy())\n",
    "X_test = torch.from_numpy(np.concatenate(X_test, axis=0))\n",
    "y_test = torch.from_numpy(np.concatenate(y_test, axis=0))\n",
    "\n",
    "# Define the SVM model\n",
    "model = svm.SVC(kernel='linear')\n",
    "\n",
    "# Train the SVM model\n",
    "model.fit(X_train, y_train)\n",
    "\n",
    "# Evaluate the SVM model on the test data\n",
    "y_pred = model.predict(X_test)\n",
    "correct = torch.sum(torch.from_numpy(y_pred) == y_test).item()\n",
    "accuracy = correct / len(y_test)\n",
    "print('Accuracy: %.3f' % accuracy)\n"
   ]
  },
  {
   "cell_type": "code",
   "execution_count": 5,
   "metadata": {},
   "outputs": [
    {
     "name": "stdout",
     "output_type": "stream",
     "text": [
      "Epoch 1 loss: 0.348, accuracy: 88.905%\n",
      "Epoch 2 loss: 0.091, accuracy: 97.238%\n",
      "Epoch 3 loss: 0.061, accuracy: 98.147%\n",
      "Epoch 4 loss: 0.048, accuracy: 98.540%\n",
      "Epoch 5 loss: 0.042, accuracy: 98.725%\n",
      "Epoch 6 loss: 0.036, accuracy: 98.932%\n",
      "Epoch 7 loss: 0.030, accuracy: 99.063%\n",
      "Epoch 8 loss: 0.027, accuracy: 99.150%\n",
      "Epoch 9 loss: 0.023, accuracy: 99.277%\n",
      "Epoch 10 loss: 0.021, accuracy: 99.353%\n",
      "Test accuracy: 98.790%\n"
     ]
    },
    {
     "data": {
      "image/png": "[encoded data removed]",
      "text/plain": [
       "<Figure size 864x288 with 2 Axes>"
      ]
     },
     "metadata": {
      "needs_background": "light"
     },
     "output_type": "display_data"
    }
   ],
   "source": [
    "# Define the LSTM model\n",
    "class LSTMClassifier(nn.Module):\n",
    "    def __init__(self, input_size, hidden_size, num_layers, num_classes):\n",
    "        super(LSTMClassifier, self).__init__()\n",
    "        self.hidden_size = hidden_size\n",
    "        self.num_layers = num_layers\n",
    "        self.lstm = nn.LSTM(input_size, hidden_size, num_layers, batch_first=True)\n",
    "        self.fc = nn.Linear(hidden_size, num_classes)\n",
    "\n",
    "    def forward(self, x):\n",
    "        h0 = torch.zeros(self.num_layers, x.size(0), self.hidden_size)\n",
    "        c0 = torch.zeros(self.num_layers, x.size(0), self.hidden_size)\n",
    "\n",
    "        out, _ = self.lstm(x, (h0, c0))\n",
    "        out = self.fc(out[:, -1, :])\n",
    "        return out\n",
    "\n",
    "# Instantiate the LSTM model and define the loss function and optimizer\n",
    "input_size = 28\n",
    "hidden_size = 128\n",
    "num_layers = 2\n",
    "num_classes = 10\n",
    "\n",
    "model = LSTMClassifier(input_size, hidden_size, num_layers, num_classes)\n",
    "criterion = nn.CrossEntropyLoss()\n",
    "optimizer = optim.Adam(model.parameters(), lr=0.001)\n",
    "\n",
    "# Train the LSTM model\n",
    "num_epochs = 10\n",
    "train_losses = []\n",
    "train_accuracies = []\n",
    "\n",
    "for epoch in range(num_epochs):\n",
    "    running_loss = 0.0\n",
    "    correct = 0\n",
    "    total = 0\n",
    "    for images, labels in train_loader:\n",
    "        images = images.squeeze(1)\n",
    "        optimizer.zero_grad()\n",
    "        output = model(images)\n",
    "        loss = criterion(output, labels)\n",
    "        loss.backward()\n",
    "        optimizer.step()\n",
    "        running_loss += loss.item()\n",
    "        \n",
    "        _, predicted = torch.max(output.data, 1)\n",
    "        total += labels.size(0)\n",
    "        correct += (predicted == labels).sum().item()\n",
    "\n",
    "    epoch_loss = running_loss / len(train_loader)\n",
    "    epoch_accuracy = correct / total\n",
    "    train_losses.append(epoch_loss)\n",
    "    train_accuracies.append(epoch_accuracy)\n",
    "    print('Epoch %d loss: %.3f, accuracy: %.3f%%' % (epoch + 1, epoch_loss, epoch_accuracy * 100))\n",
    "\n",
    "# Evaluate the LSTM model on the test data\n",
    "correct = 0\n",
    "total = 0\n",
    "with torch.no_grad():\n",
    "    for images, labels in test_loader:\n",
    "        images = images.squeeze(1)\n",
    "        output = model(images)\n",
    "        _, predicted = torch.max(output.data, 1)\n",
    "        total += labels.size(0)\n",
    "        correct += (predicted == labels).sum().item()\n",
    "test_accuracy = correct / total\n",
    "print('Test accuracy: %.3f%%' % (test_accuracy * 100))\n",
    "\n",
    "# Plot the loss curve and accuracy curve for the LSTM model\n",
    "epochs = np.arange(1, num_epochs + 1)\n",
    "plt.figure(figsize=(12, 4))\n",
    "\n",
    "plt.subplot(1, 2, 1)\n",
    "plt.plot(epochs, train_losses, 'r-', label='Training Loss')\n",
    "plt.xlabel('Epoch')\n",
    "plt.ylabel('Loss')\n",
    "plt.legend()\n",
    "plt.title('LSTM Training Loss')\n",
    "\n",
    "plt.subplot(1, 2, 2)\n",
    "plt.plot(epochs, train_accuracies, 'b-', label='Training Accuracy')\n",
    "plt.xlabel('Epoch')\n",
    "plt.ylabel('Accuracy')\n",
    "plt.legend()\n",
    "plt.title('LSTM Training Accuracy')\n",
    "\n",
    "plt.savefig('lstm_loss_accuracy_plot.png')\n",
    "plt.show()"
   ]
  },
  {
   "cell_type": "code",
   "execution_count": null,
   "metadata": {},
   "outputs": [
    {
     "name": "stdout",
     "output_type": "stream",
     "text": [
      "Test accuracy: 87.66%\n"
     ]
    }
   ],
   "source": [
    "# Preprocess the data for the decision tree classifier\n",
    "X_train = []\n",
    "y_train = []\n",
    "for images, labels in train_loader:\n",
    "    images = images.view(images.shape[0], -1)  # Reshape to (batch size, height x width)\n",
    "    X_train.append(images.numpy())\n",
    "    y_train.append(labels.numpy())\n",
    "\n",
    "X_train = np.concatenate(X_train, axis=0)\n",
    "y_train = np.concatenate(y_train, axis=0)\n",
    "\n",
    "X_test = []\n",
    "y_test = []\n",
    "for images, labels in test_loader:\n",
    "    images = images.view(images.shape[0], -1)  # Reshape to (batch size, height x width)\n",
    "    X_test.append(images.numpy())\n",
    "    y_test.append(labels.numpy())\n",
    "\n",
    "X_test = np.concatenate(X_test, axis=0)\n",
    "y_test = np.concatenate(y_test, axis=0)\n",
    "\n",
    "# Train the decision tree classifier\n",
    "clf = DecisionTreeClassifier()\n",
    "clf.fit(X_train, y_train)\n",
    "\n",
    "# Evaluate the decision tree classifier on the test data\n",
    "accuracy = clf.score(X_test, y_test)\n",
    "print(f'Test accuracy: {accuracy * 100:.2f}%')"
   ]
  }
 ],
 "metadata": {
  "kernelspec": {
   "display_name": "base",
   "language": "python",
   "name": "python3"
  },
  "language_info": {
   "codemirror_mode": {
    "name": "ipython",
    "version": 3
   },
   "file_extension": ".py",
   "mimetype": "text/x-python",
   "name": "python",
   "nbconvert_exporter": "python",
   "pygments_lexer": "ipython3",
   "version": "3.9.12"
  },
  "orig_nbformat": 4
 },
 "nbformat": 4,
 "nbformat_minor": 2
}
