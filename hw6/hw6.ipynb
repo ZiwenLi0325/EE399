{
 "cells": [
  {
   "attachments": {},
   "cell_type": "markdown",
   "metadata": {},
   "source": [
    "# EE399 HW6\n",
    "## Ziwen\n"
   ]
  },
  {
   "attachments": {},
   "cell_type": "markdown",
   "metadata": {},
   "source": [
    "https://github.com/ZiwenLi0325/EE399.git"
   ]
  },
  {
   "cell_type": "code",
   "execution_count": 1,
   "metadata": {},
   "outputs": [],
   "source": [
    "import numpy as np\n",
    "from processdata import load_data\n",
    "from processdata import TimeSeriesDataset\n",
    "import models\n",
    "import torch\n",
    "import matplotlib.pyplot as plt\n",
    "from sklearn.preprocessing import MinMaxScaler\n",
    "\n"
   ]
  },
  {
   "cell_type": "code",
   "execution_count": 2,
   "metadata": {},
   "outputs": [
    {
     "name": "stdout",
     "output_type": "stream",
     "text": [
      "(1400, 44219)\n"
     ]
    }
   ],
   "source": [
    "num_sensors = 3 \n",
    "lags = 52\n",
    "load_X = load_data(\"SST\")\n",
    "print(load_X.shape)\n",
    "n = load_X.shape[0]\n",
    "m = load_X.shape[1]\n",
    "sensor_locations = np.random.choice(m, size=num_sensors, replace=False)\n",
    "train_indices = np.random.choice(n - lags, size=1000, replace=False)\n",
    "mask = np.ones(n - lags)\n",
    "mask[train_indices] = 0\n",
    "valid_test_indices = np.arange(0, n - lags)[np.where(mask!=0)[0]]\n",
    "valid_indices = valid_test_indices[::2]\n",
    "test_indices = valid_test_indices[1::2]\n",
    "sc = MinMaxScaler()\n",
    "sc = sc.fit(load_X[train_indices])\n",
    "transformed_X = sc.transform(load_X)\n",
    "\n"
   ]
  },
  {
   "cell_type": "code",
   "execution_count": 3,
   "metadata": {},
   "outputs": [
    {
     "name": "stdout",
     "output_type": "stream",
     "text": [
      "Training epoch 1\n",
      "Error tensor(0.4836)\n",
      "Training epoch 20\n",
      "Error tensor(0.2294)\n",
      "Training epoch 40\n",
      "Error tensor(0.2215)\n",
      "Training epoch 60\n",
      "Error tensor(0.2178)\n",
      "Training epoch 80\n",
      "Error tensor(0.2176)\n",
      "Training epoch 100\n",
      "Error tensor(0.2171)\n",
      "Training epoch 120\n",
      "Error tensor(0.2156)\n",
      "Training epoch 140\n",
      "Error tensor(0.2132)\n",
      "Training epoch 160\n",
      "Error tensor(0.2118)\n",
      "Training epoch 180\n",
      "Error tensor(0.2050)\n",
      "Training epoch 200\n",
      "Error tensor(0.2011)\n",
      "Training epoch 220\n",
      "Error tensor(0.1948)\n",
      "Training epoch 240\n",
      "Error tensor(0.1754)\n",
      "Training epoch 260\n",
      "Error tensor(0.1594)\n",
      "Training epoch 280\n",
      "Error tensor(0.1499)\n",
      "Training epoch 300\n",
      "Error tensor(0.1435)\n",
      "Training epoch 320\n",
      "Error tensor(0.1400)\n",
      "Training epoch 340\n",
      "Error tensor(0.1351)\n",
      "Training epoch 360\n",
      "Error tensor(0.1315)\n",
      "Training epoch 380\n",
      "Error tensor(0.1296)\n",
      "Training epoch 400\n",
      "Error tensor(0.1272)\n",
      "Training epoch 420\n",
      "Error tensor(0.1247)\n",
      "Training epoch 440\n",
      "Error tensor(0.1245)\n",
      "Training epoch 460\n",
      "Error tensor(0.1222)\n",
      "Training epoch 480\n",
      "Error tensor(0.1200)\n",
      "Training epoch 500\n",
      "Error tensor(0.1188)\n"
     ]
    },
    {
     "ename": "KeyboardInterrupt",
     "evalue": "",
     "output_type": "error",
     "traceback": [
      "\u001b[1;31m---------------------------------------------------------------------------\u001b[0m",
      "\u001b[1;31mKeyboardInterrupt\u001b[0m                         Traceback (most recent call last)",
      "\u001b[1;32mc:\\Users\\ZiwenLi\\Desktop\\UW\\EE\\399\\hw6\\hw6.ipynb Cell 5\u001b[0m in \u001b[0;36m<cell line: 22>\u001b[1;34m()\u001b[0m\n\u001b[0;32m     <a href='vscode-notebook-cell:/c%3A/Users/ZiwenLi/Desktop/UW/EE/399/hw6/hw6.ipynb#W4sZmlsZQ%3D%3D?line=19'>20</a>\u001b[0m test_dataset \u001b[39m=\u001b[39m TimeSeriesDataset(test_data_in, test_data_out)\n\u001b[0;32m     <a href='vscode-notebook-cell:/c%3A/Users/ZiwenLi/Desktop/UW/EE/399/hw6/hw6.ipynb#W4sZmlsZQ%3D%3D?line=20'>21</a>\u001b[0m shred \u001b[39m=\u001b[39m models\u001b[39m.\u001b[39mSHRED(num_sensors, m, hidden_size\u001b[39m=\u001b[39m\u001b[39m64\u001b[39m, hidden_layers\u001b[39m=\u001b[39m\u001b[39m2\u001b[39m, l1\u001b[39m=\u001b[39m\u001b[39m350\u001b[39m, l2\u001b[39m=\u001b[39m\u001b[39m400\u001b[39m, dropout\u001b[39m=\u001b[39m\u001b[39m0.1\u001b[39m)\u001b[39m.\u001b[39mto(device)\n\u001b[1;32m---> <a href='vscode-notebook-cell:/c%3A/Users/ZiwenLi/Desktop/UW/EE/399/hw6/hw6.ipynb#W4sZmlsZQ%3D%3D?line=21'>22</a>\u001b[0m validation_errors \u001b[39m=\u001b[39m models\u001b[39m.\u001b[39;49mfit(shred, train_dataset, valid_dataset, batch_size\u001b[39m=\u001b[39;49m\u001b[39m64\u001b[39;49m, num_epochs\u001b[39m=\u001b[39;49m\u001b[39m1000\u001b[39;49m, lr\u001b[39m=\u001b[39;49m\u001b[39m1e-3\u001b[39;49m, verbose\u001b[39m=\u001b[39;49m\u001b[39mTrue\u001b[39;49;00m, patience\u001b[39m=\u001b[39;49m\u001b[39m5\u001b[39;49m)\n\u001b[0;32m     <a href='vscode-notebook-cell:/c%3A/Users/ZiwenLi/Desktop/UW/EE/399/hw6/hw6.ipynb#W4sZmlsZQ%3D%3D?line=22'>23</a>\u001b[0m test_recons \u001b[39m=\u001b[39m sc\u001b[39m.\u001b[39minverse_transform(shred(test_dataset\u001b[39m.\u001b[39mX)\u001b[39m.\u001b[39mdetach()\u001b[39m.\u001b[39mcpu()\u001b[39m.\u001b[39mnumpy())\n\u001b[0;32m     <a href='vscode-notebook-cell:/c%3A/Users/ZiwenLi/Desktop/UW/EE/399/hw6/hw6.ipynb#W4sZmlsZQ%3D%3D?line=23'>24</a>\u001b[0m test_ground_truth \u001b[39m=\u001b[39m sc\u001b[39m.\u001b[39minverse_transform(test_dataset\u001b[39m.\u001b[39mY\u001b[39m.\u001b[39mdetach()\u001b[39m.\u001b[39mcpu()\u001b[39m.\u001b[39mnumpy())\n",
      "File \u001b[1;32mc:\\Users\\ZiwenLi\\Desktop\\UW\\EE\\399\\hw6\\models.py:90\u001b[0m, in \u001b[0;36mfit\u001b[1;34m(model, train_dataset, valid_dataset, batch_size, num_epochs, lr, verbose, patience)\u001b[0m\n\u001b[0;32m     88\u001b[0m     optimizer\u001b[39m.\u001b[39mzero_grad()\n\u001b[0;32m     89\u001b[0m     loss \u001b[39m=\u001b[39m criterion(outputs, data[\u001b[39m1\u001b[39m])\n\u001b[1;32m---> 90\u001b[0m     loss\u001b[39m.\u001b[39;49mbackward()\n\u001b[0;32m     91\u001b[0m     optimizer\u001b[39m.\u001b[39mstep()\n\u001b[0;32m     93\u001b[0m \u001b[39mif\u001b[39;00m epoch \u001b[39m%\u001b[39m \u001b[39m20\u001b[39m \u001b[39m==\u001b[39m \u001b[39m0\u001b[39m \u001b[39mor\u001b[39;00m epoch \u001b[39m==\u001b[39m \u001b[39m1\u001b[39m:\n",
      "File \u001b[1;32mc:\\Users\\ZiwenLi\\anaconda3\\lib\\site-packages\\torch\\_tensor.py:488\u001b[0m, in \u001b[0;36mTensor.backward\u001b[1;34m(self, gradient, retain_graph, create_graph, inputs)\u001b[0m\n\u001b[0;32m    478\u001b[0m \u001b[39mif\u001b[39;00m has_torch_function_unary(\u001b[39mself\u001b[39m):\n\u001b[0;32m    479\u001b[0m     \u001b[39mreturn\u001b[39;00m handle_torch_function(\n\u001b[0;32m    480\u001b[0m         Tensor\u001b[39m.\u001b[39mbackward,\n\u001b[0;32m    481\u001b[0m         (\u001b[39mself\u001b[39m,),\n\u001b[1;32m   (...)\u001b[0m\n\u001b[0;32m    486\u001b[0m         inputs\u001b[39m=\u001b[39minputs,\n\u001b[0;32m    487\u001b[0m     )\n\u001b[1;32m--> 488\u001b[0m torch\u001b[39m.\u001b[39;49mautograd\u001b[39m.\u001b[39;49mbackward(\n\u001b[0;32m    489\u001b[0m     \u001b[39mself\u001b[39;49m, gradient, retain_graph, create_graph, inputs\u001b[39m=\u001b[39;49minputs\n\u001b[0;32m    490\u001b[0m )\n",
      "File \u001b[1;32mc:\\Users\\ZiwenLi\\anaconda3\\lib\\site-packages\\torch\\autograd\\__init__.py:204\u001b[0m, in \u001b[0;36mbackward\u001b[1;34m(tensors, grad_tensors, retain_graph, create_graph, grad_variables, inputs)\u001b[0m\n\u001b[0;32m    199\u001b[0m     retain_graph \u001b[39m=\u001b[39m create_graph\n\u001b[0;32m    201\u001b[0m \u001b[39m# The reason we repeat the same comment below is that\u001b[39;00m\n\u001b[0;32m    202\u001b[0m \u001b[39m# some Python versions print out the first line of a multi-line function\u001b[39;00m\n\u001b[0;32m    203\u001b[0m \u001b[39m# calls in the traceback and some print out the last line\u001b[39;00m\n\u001b[1;32m--> 204\u001b[0m Variable\u001b[39m.\u001b[39;49m_execution_engine\u001b[39m.\u001b[39;49mrun_backward(  \u001b[39m# Calls into the C++ engine to run the backward pass\u001b[39;49;00m\n\u001b[0;32m    205\u001b[0m     tensors, grad_tensors_, retain_graph, create_graph, inputs,\n\u001b[0;32m    206\u001b[0m     allow_unreachable\u001b[39m=\u001b[39;49m\u001b[39mTrue\u001b[39;49;00m, accumulate_grad\u001b[39m=\u001b[39;49m\u001b[39mTrue\u001b[39;49;00m)\n",
      "\u001b[1;31mKeyboardInterrupt\u001b[0m: "
     ]
    }
   ],
   "source": [
    "### Generate input sequences to a SHRED model\n",
    "all_data_in = np.zeros((n - lags, lags, num_sensors))\n",
    "for i in range(len(all_data_in)):\n",
    "    all_data_in[i] = transformed_X[i:i+lags, sensor_locations]\n",
    "\n",
    "### Generate training validation and test datasets both for reconstruction of states and forecasting sensors\n",
    "device = 'cuda' if torch.cuda.is_available() else 'cpu'\n",
    "\n",
    "train_data_in = torch.tensor(all_data_in[train_indices], dtype=torch.float32).to(device)\n",
    "valid_data_in = torch.tensor(all_data_in[valid_indices], dtype=torch.float32).to(device)\n",
    "test_data_in = torch.tensor(all_data_in[test_indices], dtype=torch.float32).to(device)\n",
    "\n",
    "### -1 to have output be at the same time as final sensor measurements\n",
    "train_data_out = torch.tensor(transformed_X[train_indices + lags - 1], dtype=torch.float32).to(device)\n",
    "valid_data_out = torch.tensor(transformed_X[valid_indices + lags - 1], dtype=torch.float32).to(device)\n",
    "test_data_out = torch.tensor(transformed_X[test_indices + lags - 1], dtype=torch.float32).to(device)\n",
    "\n",
    "train_dataset = TimeSeriesDataset(train_data_in, train_data_out)\n",
    "valid_dataset = TimeSeriesDataset(valid_data_in, valid_data_out)\n",
    "test_dataset = TimeSeriesDataset(test_data_in, test_data_out)\n",
    "shred = models.SHRED(num_sensors, m, hidden_size=64, hidden_layers=2, l1=350, l2=400, dropout=0.1).to(device)\n",
    "validation_errors = models.fit(shred, train_dataset, valid_dataset, batch_size=64, num_epochs=1000, lr=1e-3, verbose=True, patience=5)\n",
    "test_recons = sc.inverse_transform(shred(test_dataset.X).detach().cpu().numpy())\n",
    "test_ground_truth = sc.inverse_transform(test_dataset.Y.detach().cpu().numpy())\n",
    "print(np.linalg.norm(test_recons - test_ground_truth) / np.linalg.norm(test_ground_truth))"
   ]
  },
  {
   "cell_type": "code",
   "execution_count": null,
   "metadata": {},
   "outputs": [
    {
     "data": {
      "image/png": "[encoded data removed]",
      "text/plain": [
       "<Figure size 432x288 with 1 Axes>"
      ]
     },
     "metadata": {
      "needs_background": "light"
     },
     "output_type": "display_data"
    }
   ],
   "source": [
    "plt.plot(range(len(validation_errors)), validation_errors)\n",
    "plt.xlabel('Epochs')\n",
    "plt.ylabel('Validation Error')\n",
    "plt.title('Validation Error vs. Epochs')\n",
    "plt.savefig('SST_validation_error.png') \n",
    "plt.show()"
   ]
  },
  {
   "cell_type": "code",
   "execution_count": null,
   "metadata": {},
   "outputs": [
    {
     "name": "stdout",
     "output_type": "stream",
     "text": [
      "Training epoch 1\n",
      "Error tensor(0.4722)\n",
      "Training epoch 20\n",
      "Error tensor(0.2320)\n",
      "Training epoch 40\n",
      "Error tensor(0.2224)\n",
      "Training epoch 60\n",
      "Error tensor(0.2210)\n",
      "Training epoch 80\n",
      "Error tensor(0.2172)\n",
      "Training epoch 100\n",
      "Error tensor(0.2100)\n",
      "Training epoch 1\n",
      "Error tensor(0.4713)\n",
      "Training epoch 20\n",
      "Error tensor(0.2312)\n",
      "Training epoch 40\n",
      "Error tensor(0.2216)\n",
      "Training epoch 60\n",
      "Error tensor(0.2207)\n",
      "Training epoch 80\n",
      "Error tensor(0.2161)\n",
      "Training epoch 100\n",
      "Error tensor(0.2100)\n",
      "Training epoch 1\n",
      "Error tensor(0.4722)\n",
      "Training epoch 20\n",
      "Error tensor(0.2348)\n",
      "Training epoch 40\n",
      "Error tensor(0.2227)\n",
      "Training epoch 60\n",
      "Error tensor(0.2211)\n",
      "Training epoch 80\n",
      "Error tensor(0.2198)\n",
      "Training epoch 100\n",
      "Error tensor(0.2106)\n",
      "Training epoch 1\n",
      "Error tensor(0.4714)\n",
      "Training epoch 20\n",
      "Error tensor(0.2309)\n",
      "Training epoch 40\n",
      "Error tensor(0.2215)\n",
      "Training epoch 60\n",
      "Error tensor(0.2205)\n",
      "Training epoch 80\n",
      "Error tensor(0.2128)\n",
      "Training epoch 100\n",
      "Error tensor(0.2070)\n",
      "Training epoch 1\n",
      "Error tensor(0.4728)\n",
      "Training epoch 20\n",
      "Error tensor(0.2325)\n",
      "Training epoch 40\n",
      "Error tensor(0.2236)\n",
      "Training epoch 60\n",
      "Error tensor(0.2202)\n",
      "Training epoch 80\n",
      "Error tensor(0.2174)\n",
      "Training epoch 100\n",
      "Error tensor(0.2094)\n"
     ]
    },
    {
     "data": {
      "image/png": "[encoded data removed]",
      "text/plain": [
       "<Figure size 432x288 with 1 Axes>"
      ]
     },
     "metadata": {
      "needs_background": "light"
     },
     "output_type": "display_data"
    }
   ],
   "source": [
    "lag_values = [10, 20, 30, 40, 50]  # Define a list of different lags values\n",
    "performance_lag = []\n",
    "\n",
    "for lag in lag_values:\n",
    "    # Rest of the data preprocessing part remains same, just replace 'lags' with 'lag'\n",
    "    # ...\n",
    "    # train the model\n",
    "    shred = models.SHRED(num_sensors, m, hidden_size=64, hidden_layers=2, l1=350, l2=400, dropout=0.1).to(device)\n",
    "    validation_errors = models.fit(shred, train_dataset, valid_dataset, batch_size=64, num_epochs=1000, lr=1e-3, verbose=True, patience=5)\n",
    "    # Calculate performance, let's assume it's Mean Squared Error (MSE) for this case\n",
    "    performance = np.mean(validation_errors)\n",
    "    performance_lag.append(performance)\n",
    "\n",
    "\n"
   ]
  },
  {
   "cell_type": "code",
   "execution_count": null,
   "metadata": {},
   "outputs": [
    {
     "data": {
      "image/png": "[encoded data removed]",
      "text/plain": [
       "<Figure size 432x288 with 1 Axes>"
      ]
     },
     "metadata": {
      "needs_background": "light"
     },
     "output_type": "display_data"
    }
   ],
   "source": [
    "# Plotting\n",
    "plt.plot(lag_values, performance_lag)\n",
    "plt.xlabel('Lag Values')\n",
    "plt.ylabel('Performance (MSE)')\n",
    "plt.title('Performance vs Lag Values')\n",
    "plt.savefig('lag_performance.png')\n",
    "plt.show()"
   ]
  },
  {
   "cell_type": "code",
   "execution_count": null,
   "metadata": {},
   "outputs": [
    {
     "name": "stdout",
     "output_type": "stream",
     "text": [
      "Training epoch 1\n",
      "Error tensor(0.4716)\n",
      "Training epoch 20\n",
      "Error tensor(0.2304)\n",
      "Training epoch 40\n",
      "Error tensor(0.2241)\n",
      "Training epoch 60\n",
      "Error tensor(0.2208)\n",
      "Training epoch 80\n",
      "Error tensor(0.2166)\n",
      "Training epoch 100\n",
      "Error tensor(0.2083)\n",
      "Training epoch 1\n",
      "Error tensor(0.4721)\n",
      "Training epoch 20\n",
      "Error tensor(0.2288)\n",
      "Training epoch 40\n",
      "Error tensor(0.2231)\n",
      "Training epoch 60\n",
      "Error tensor(0.2226)\n",
      "Training epoch 80\n",
      "Error tensor(0.2203)\n",
      "Training epoch 100\n",
      "Error tensor(0.2118)\n",
      "Training epoch 1\n",
      "Error tensor(0.4721)\n",
      "Training epoch 20\n",
      "Error tensor(0.2270)\n",
      "Training epoch 40\n",
      "Error tensor(0.2239)\n",
      "Training epoch 60\n",
      "Error tensor(0.2254)\n",
      "Training epoch 80\n",
      "Error tensor(0.2225)\n",
      "Training epoch 100\n",
      "Error tensor(0.2219)\n",
      "Training epoch 1\n",
      "Error tensor(0.4730)\n",
      "Training epoch 20\n",
      "Error tensor(0.2427)\n",
      "Training epoch 40\n",
      "Error tensor(0.2368)\n",
      "Training epoch 60\n",
      "Error tensor(0.2343)\n",
      "Training epoch 80\n",
      "Error tensor(0.2385)\n",
      "Training epoch 100\n",
      "Error tensor(0.2394)\n",
      "Training epoch 1\n",
      "Error tensor(0.4788)\n",
      "Training epoch 20\n",
      "Error tensor(0.2795)\n",
      "Training epoch 40\n",
      "Error tensor(0.2861)\n",
      "Training epoch 60\n",
      "Error tensor(0.2905)\n",
      "Training epoch 80\n",
      "Error tensor(0.2907)\n",
      "Training epoch 100\n",
      "Error tensor(0.2923)\n",
      "Training epoch 1\n",
      "Error tensor(0.4749)\n",
      "Training epoch 20\n",
      "Error tensor(0.3876)\n",
      "Training epoch 40\n",
      "Error tensor(0.3972)\n",
      "Training epoch 60\n",
      "Error tensor(0.4121)\n",
      "Training epoch 80\n",
      "Error tensor(0.4325)\n",
      "Training epoch 100\n",
      "Error tensor(0.4481)\n"
     ]
    }
   ],
   "source": [
    "# Define different scales of noise you want to test\n",
    "noise_scales = [0.0, 0.1, 0.2, 0.5, 1.0, 2.0]\n",
    "\n",
    "# Define a list to store the performance results for each noise scale\n",
    "performance_results_noise = []\n",
    "\n",
    "for noise_scale in noise_scales:\n",
    "    # Add Gaussian noise to your original data\n",
    "    noisy_data_in = train_data_in + torch.normal(mean=0.0, std=noise_scale, size=train_data_in.shape, device=device)\n",
    "    noisy_valid_data_in = valid_data_in + torch.normal(mean=0.0, std=noise_scale, size=valid_data_in.shape, device=device)\n",
    "\n",
    "    # Create noisy datasets\n",
    "    noisy_train_dataset = TimeSeriesDataset(noisy_data_in, train_data_out)\n",
    "    noisy_valid_dataset = TimeSeriesDataset(noisy_valid_data_in, valid_data_out)\n",
    "\n",
    "    # Train the model\n",
    "    shred = models.SHRED(num_sensors, m, hidden_size=64, hidden_layers=2, l1=350, l2=400, dropout=0.1).to(device)\n",
    "    validation_errors = models.fit(shred, noisy_train_dataset, noisy_valid_dataset, batch_size=64, num_epochs=1000, lr=1e-3, verbose=True, patience=5)\n",
    "    \n",
    "    # Calculate performance\n",
    "    performance = np.mean(validation_errors)\n",
    "    performance_results_noise.append(performance)\n",
    "\n"
   ]
  },
  {
   "cell_type": "code",
   "execution_count": null,
   "metadata": {},
   "outputs": [
    {
     "data": {
      "image/png": "[encoded data removed]",
      "text/plain": [
       "<Figure size 432x288 with 1 Axes>"
      ]
     },
     "metadata": {
      "needs_background": "light"
     },
     "output_type": "display_data"
    }
   ],
   "source": [
    "# Plot the performance results as a function of the noise scale\n",
    "plt.plot(noise_scales, performance_results_noise)\n",
    "plt.xlabel('Noise Scale')\n",
    "plt.ylabel('Performance')\n",
    "plt.title('Performance as a function of Noise Scale')\n",
    "plt.savefig('noise_scale_performance.png')\n",
    "plt.show()"
   ]
  },
  {
   "cell_type": "code",
   "execution_count": null,
   "metadata": {},
   "outputs": [
    {
     "name": "stdout",
     "output_type": "stream",
     "text": [
      "Training epoch 1\n",
      "Error tensor(0.4722)\n",
      "Training epoch 20\n",
      "Error tensor(0.2334)\n",
      "Training epoch 40\n",
      "Error tensor(0.2243)\n",
      "Training epoch 60\n",
      "Error tensor(0.2237)\n",
      "Training epoch 80\n",
      "Error tensor(0.2231)\n",
      "Training epoch 100\n",
      "Error tensor(0.2234)\n",
      "Training epoch 1\n",
      "Error tensor(0.4726)\n",
      "Training epoch 20\n",
      "Error tensor(0.2311)\n",
      "Training epoch 40\n",
      "Error tensor(0.2239)\n",
      "Training epoch 60\n",
      "Error tensor(0.2243)\n",
      "Training epoch 80\n",
      "Error tensor(0.2151)\n",
      "Training epoch 100\n",
      "Error tensor(0.2109)\n",
      "Training epoch 1\n",
      "Error tensor(0.4732)\n",
      "Training epoch 20\n",
      "Error tensor(0.2310)\n",
      "Training epoch 40\n",
      "Error tensor(0.2228)\n",
      "Training epoch 60\n",
      "Error tensor(0.2203)\n",
      "Training epoch 80\n",
      "Error tensor(0.2136)\n",
      "Training epoch 100\n",
      "Error tensor(0.2088)\n"
     ]
    }
   ],
   "source": [
    "# Define different numbers of sensors to test\n",
    "sensor_counts = range(1, num_sensors+1)\n",
    "\n",
    "# Define a list to store the performance results for each number of sensors\n",
    "performance_results_sensor = []\n",
    "\n",
    "for sensor_count in sensor_counts:\n",
    "    # Reshape your data to include the appropriate number of sensors\n",
    "    reshaped_train_data_in = train_data_in[:, :, :sensor_count]\n",
    "    reshaped_valid_data_in = valid_data_in[:, :, :sensor_count]\n",
    "\n",
    "    # Create new datasets with the modified number of sensors\n",
    "    reshaped_train_dataset = TimeSeriesDataset(reshaped_train_data_in, train_data_out)\n",
    "    reshaped_valid_dataset = TimeSeriesDataset(reshaped_valid_data_in, valid_data_out)\n",
    "\n",
    "    # Train the model\n",
    "    shred = models.SHRED(sensor_count, m, hidden_size=64, hidden_layers=2, l1=350, l2=400, dropout=0.1).to(device)\n",
    "    validation_errors = models.fit(shred, reshaped_train_dataset, reshaped_valid_dataset, batch_size=64, num_epochs=1000, lr=1e-3, verbose=True, patience=5)\n",
    "    \n",
    "    # Calculate performance\n",
    "    performance = np.mean(validation_errors)\n",
    "    performance_results_sensor.append(performance)\n"
   ]
  },
  {
   "cell_type": "code",
   "execution_count": null,
   "metadata": {},
   "outputs": [
    {
     "data": {
      "image/png": "[encoded data removed]",
      "text/plain": [
       "<Figure size 432x288 with 1 Axes>"
      ]
     },
     "metadata": {
      "needs_background": "light"
     },
     "output_type": "display_data"
    }
   ],
   "source": [
    "# Plot the performance results as a function of the number of sensors\n",
    "plt.plot(sensor_counts, performance_results_sensor)\n",
    "plt.xlabel('Number of Sensors')\n",
    "plt.ylabel('Performance')\n",
    "plt.title('Performance as a function of Number of Sensors')\n",
    "plt.savefig('performance_Sensors.png')\n",
    "plt.show()"
   ]
  }
 ],
 "metadata": {
  "kernelspec": {
   "display_name": "base",
   "language": "python",
   "name": "python3"
  },
  "language_info": {
   "codemirror_mode": {
    "name": "ipython",
    "version": 3
   },
   "file_extension": ".py",
   "mimetype": "text/x-python",
   "name": "python",
   "nbconvert_exporter": "python",
   "pygments_lexer": "ipython3",
   "version": "3.9.12"
  },
  "orig_nbformat": 4
 },
 "nbformat": 4,
 "nbformat_minor": 2
}
